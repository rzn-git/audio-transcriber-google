{
 "cells": [
  {
   "cell_type": "code",
   "execution_count": 3,
   "metadata": {},
   "outputs": [
    {
     "name": "stdout",
     "output_type": "stream",
     "text": [
      "Transcription saved to output\\transcription1.txt\n"
     ]
    }
   ],
   "source": [
    "import os\n",
    "from google.cloud import speech_v1p1beta1 as speech\n",
    "\n",
    "def transcribe_audio_with_diarization(audio_file_path, credentials_path, output_folder):\n",
    "    # Set Google Cloud credentials\n",
    "    os.environ[\"GOOGLE_APPLICATION_CREDENTIALS\"] = credentials_path\n",
    "\n",
    "    # Initialize the client\n",
    "    client = speech.SpeechClient()\n",
    "\n",
    "    # Read the audio file\n",
    "    with open(audio_file_path, \"rb\") as audio_file:\n",
    "        content = audio_file.read()\n",
    "\n",
    "    # Configure recognition request\n",
    "    audio = speech.RecognitionAudio(content=content)\n",
    "    config = speech.RecognitionConfig(\n",
    "        encoding=speech.RecognitionConfig.AudioEncoding.MP3,  # Change to MP3 if your file is MP3\n",
    "        sample_rate_hertz=16000,  # Replace with your audio's sample rate\n",
    "        language_code=\"en-US\",\n",
    "        enable_speaker_diarization=True,\n",
    "        diarization_speaker_count=2,  # Specify the number of speakers\n",
    "        model=\"phone_call\"  # Use \"phone_call\" if applicable\n",
    "    )\n",
    "\n",
    "    # Perform the recognition\n",
    "    response = client.recognize(config=config, audio=audio)\n",
    "\n",
    "    # Group words by speakers\n",
    "    speaker_transcripts = {}\n",
    "    for result in response.results:\n",
    "        for word_info in result.alternatives[0].words:\n",
    "            speaker = word_info.speaker_tag\n",
    "            word = word_info.word\n",
    "            if speaker not in speaker_transcripts:\n",
    "                speaker_transcripts[speaker] = []\n",
    "            speaker_transcripts[speaker].append(word)\n",
    "\n",
    "    # Prepare output text\n",
    "    output_text = []\n",
    "    for speaker, words in speaker_transcripts.items():\n",
    "        output_text.append(f\"Speaker {speaker}: {' '.join(words)}\")\n",
    "\n",
    "    # Join the text with line breaks\n",
    "    output_text_str = \"\\n\\n\".join(output_text)\n",
    "\n",
    "    # Ensure the output folder exists\n",
    "    os.makedirs(output_folder, exist_ok=True)\n",
    "\n",
    "    # Write to a text file\n",
    "    output_file_path = os.path.join(output_folder, \"transcription1.txt\")\n",
    "    with open(output_file_path, \"w\", encoding=\"utf-8\") as output_file:\n",
    "        output_file.write(output_text_str)\n",
    "\n",
    "    print(f\"Transcription saved to {output_file_path}\")\n",
    "\n",
    "\n",
    "# Replace with your audio file path, credentials path, and desired output folder\n",
    "audio_file_path = \"dataset/1215.MP3\"  # Change to your file path\n",
    "credentials_path = \"C:/gcloud/service-account-key.json\"  # Change to your credentials file path\n",
    "\n",
    "\n",
    "\n",
    "output_folder = \"output\"  # Specify the output folder\n",
    "\n",
    "# Call the function\n",
    "transcribe_audio_with_diarization(audio_file_path, credentials_path, output_folder)\n"
   ]
  }
 ],
 "metadata": {
  "kernelspec": {
   "display_name": "Python 3",
   "language": "python",
   "name": "python3"
  },
  "language_info": {
   "codemirror_mode": {
    "name": "ipython",
    "version": 3
   },
   "file_extension": ".py",
   "mimetype": "text/x-python",
   "name": "python",
   "nbconvert_exporter": "python",
   "pygments_lexer": "ipython3",
   "version": "3.12.7"
  }
 },
 "nbformat": 4,
 "nbformat_minor": 2
}
